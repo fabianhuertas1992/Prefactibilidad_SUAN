{
  "nbformat": 4,
  "nbformat_minor": 0,
  "metadata": {
    "colab": {
      "provenance": [],
      "toc_visible": true,
      "include_colab_link": true
    },
    "kernelspec": {
      "name": "python3",
      "display_name": "Python 3"
    },
    "language_info": {
      "name": "python"
    }
  },
  "cells": [
    {
      "cell_type": "markdown",
      "metadata": {
        "id": "view-in-github",
        "colab_type": "text"
      },
      "source": [
        "<a href=\"https://colab.research.google.com/github/fabianhuertas1992/Prefactibilidad_SUAN/blob/main/Script/Recorte_Poligonos_GeoJSON_.ipynb\" target=\"_parent\"><img src=\"https://colab.research.google.com/assets/colab-badge.svg\" alt=\"Open In Colab\"/></a>"
      ]
    },
    {
      "cell_type": "markdown",
      "source": [
        "# Acceso a Drive de Google - Librerias"
      ],
      "metadata": {
        "id": "ugaBkw9ViNVa"
      }
    },
    {
      "cell_type": "code",
      "execution_count": null,
      "metadata": {
        "id": "Pu41yqjaoLSG",
        "colab": {
          "base_uri": "https://localhost:8080/"
        },
        "outputId": "9863b747-7880-4724-cdb1-7e8931debd62",
        "cellView": "form"
      },
      "outputs": [
        {
          "output_type": "stream",
          "name": "stdout",
          "text": [
            "Mounted at /content/drive\n"
          ]
        }
      ],
      "source": [
        "# @title Montar acceso a Drive\n",
        "from google.colab import drive\n",
        "drive.mount('/content/drive')"
      ]
    },
    {
      "cell_type": "code",
      "source": [
        "# @title Instala librerias\n",
        "!pip install rasterio\n",
        "!pip install geopandas\n",
        "!pip install numpy"
      ],
      "metadata": {
        "colab": {
          "base_uri": "https://localhost:8080/"
        },
        "id": "Exgn-d9lpV4c",
        "outputId": "c3262208-a241-4efc-b5af-4c8b7e9bfb05",
        "cellView": "form",
        "collapsed": true
      },
      "execution_count": null,
      "outputs": [
        {
          "output_type": "stream",
          "name": "stdout",
          "text": [
            "Collecting rasterio\n",
            "  Downloading rasterio-1.4.3-cp311-cp311-manylinux_2_17_x86_64.manylinux2014_x86_64.whl.metadata (9.1 kB)\n",
            "Collecting affine (from rasterio)\n",
            "  Downloading affine-2.4.0-py3-none-any.whl.metadata (4.0 kB)\n",
            "Requirement already satisfied: attrs in /usr/local/lib/python3.11/dist-packages (from rasterio) (25.1.0)\n",
            "Requirement already satisfied: certifi in /usr/local/lib/python3.11/dist-packages (from rasterio) (2025.1.31)\n",
            "Requirement already satisfied: click>=4.0 in /usr/local/lib/python3.11/dist-packages (from rasterio) (8.1.8)\n",
            "Collecting cligj>=0.5 (from rasterio)\n",
            "  Downloading cligj-0.7.2-py3-none-any.whl.metadata (5.0 kB)\n",
            "Requirement already satisfied: numpy>=1.24 in /usr/local/lib/python3.11/dist-packages (from rasterio) (1.26.4)\n",
            "Collecting click-plugins (from rasterio)\n",
            "  Downloading click_plugins-1.1.1-py2.py3-none-any.whl.metadata (6.4 kB)\n",
            "Requirement already satisfied: pyparsing in /usr/local/lib/python3.11/dist-packages (from rasterio) (3.2.1)\n",
            "Downloading rasterio-1.4.3-cp311-cp311-manylinux_2_17_x86_64.manylinux2014_x86_64.whl (22.2 MB)\n",
            "\u001b[2K   \u001b[90m━━━━━━━━━━━━━━━━━━━━━━━━━━━━━━━━━━━━━━━━\u001b[0m \u001b[32m22.2/22.2 MB\u001b[0m \u001b[31m48.8 MB/s\u001b[0m eta \u001b[36m0:00:00\u001b[0m\n",
            "\u001b[?25hDownloading cligj-0.7.2-py3-none-any.whl (7.1 kB)\n",
            "Downloading affine-2.4.0-py3-none-any.whl (15 kB)\n",
            "Downloading click_plugins-1.1.1-py2.py3-none-any.whl (7.5 kB)\n",
            "Installing collected packages: cligj, click-plugins, affine, rasterio\n",
            "Successfully installed affine-2.4.0 click-plugins-1.1.1 cligj-0.7.2 rasterio-1.4.3\n",
            "Requirement already satisfied: geopandas in /usr/local/lib/python3.11/dist-packages (1.0.1)\n",
            "Requirement already satisfied: numpy>=1.22 in /usr/local/lib/python3.11/dist-packages (from geopandas) (1.26.4)\n",
            "Requirement already satisfied: pyogrio>=0.7.2 in /usr/local/lib/python3.11/dist-packages (from geopandas) (0.10.0)\n",
            "Requirement already satisfied: packaging in /usr/local/lib/python3.11/dist-packages (from geopandas) (24.2)\n",
            "Requirement already satisfied: pandas>=1.4.0 in /usr/local/lib/python3.11/dist-packages (from geopandas) (2.2.2)\n",
            "Requirement already satisfied: pyproj>=3.3.0 in /usr/local/lib/python3.11/dist-packages (from geopandas) (3.7.1)\n",
            "Requirement already satisfied: shapely>=2.0.0 in /usr/local/lib/python3.11/dist-packages (from geopandas) (2.0.7)\n",
            "Requirement already satisfied: python-dateutil>=2.8.2 in /usr/local/lib/python3.11/dist-packages (from pandas>=1.4.0->geopandas) (2.8.2)\n",
            "Requirement already satisfied: pytz>=2020.1 in /usr/local/lib/python3.11/dist-packages (from pandas>=1.4.0->geopandas) (2025.1)\n",
            "Requirement already satisfied: tzdata>=2022.7 in /usr/local/lib/python3.11/dist-packages (from pandas>=1.4.0->geopandas) (2025.1)\n",
            "Requirement already satisfied: certifi in /usr/local/lib/python3.11/dist-packages (from pyogrio>=0.7.2->geopandas) (2025.1.31)\n",
            "Requirement already satisfied: six>=1.5 in /usr/local/lib/python3.11/dist-packages (from python-dateutil>=2.8.2->pandas>=1.4.0->geopandas) (1.17.0)\n",
            "Requirement already satisfied: numpy in /usr/local/lib/python3.11/dist-packages (1.26.4)\n"
          ]
        }
      ]
    },
    {
      "cell_type": "markdown",
      "source": [
        "# Recorte de imágenes"
      ],
      "metadata": {
        "id": "MSM8gBZBihLb"
      }
    },
    {
      "cell_type": "code",
      "source": [
        "# @title Recorte de Imágenes tomadas de GeoJson\n",
        "import os\n",
        "import geopandas as gpd\n",
        "import rasterio\n",
        "from rasterio.mask import mask\n",
        "import re\n",
        "\n",
        "def procesar_imagenes_y_poligonos(geojson_dir, imagenes_dir, salida_dir, imagenes_bandas):\n",
        "    os.makedirs(salida_dir, exist_ok=True)\n",
        "\n",
        "    # Obtener lista de archivos GeoJSON en la carpeta\n",
        "    geojson_files = [f for f in os.listdir(geojson_dir) if f.endswith(\".geojson\")]\n",
        "\n",
        "    for geojson_file in geojson_files:\n",
        "        geojson_path = os.path.join(geojson_dir, geojson_file)\n",
        "        poligonos = gpd.read_file(geojson_path)\n",
        "\n",
        "        # Extraer información del geojson\n",
        "        match = re.match(r\"([^_]+)_([^_]+)_(\\d+\\.\\d+)\", geojson_file)\n",
        "        if not match:\n",
        "            print(f\"Advertencia: No se pudo extraer información del nombre {geojson_file}, omitiendo.\")\n",
        "            continue\n",
        "\n",
        "        departamento, municipio, shape_id = match.groups()\n",
        "        municipio = municipio.replace(\" \", \"_\")  # Reemplazar espacios en el nombre del municipio\n",
        "\n",
        "        for imagen, bandas in imagenes_bandas.items():\n",
        "            for archivo_banda in bandas:\n",
        "                banda_path = os.path.join(imagenes_dir, archivo_banda)\n",
        "\n",
        "                if not os.path.exists(banda_path):\n",
        "                    print(f\"Advertencia: No se encontró {banda_path}, omitiendo.\")\n",
        "                    continue\n",
        "\n",
        "                try:\n",
        "                    with rasterio.open(banda_path) as src:\n",
        "                        profile = src.profile  # Guardar el perfil del raster original\n",
        "\n",
        "                        for idx, row in poligonos.iterrows():\n",
        "                            geom = [row[\"geometry\"]]  # Obtener la geometría del polígono\n",
        "\n",
        "                            # Extraer información de la imagen de entrada\n",
        "                            fecha, satelite, banda = os.path.splitext(archivo_banda)[0].split(\"_\")[-3:]\n",
        "\n",
        "                            # Crear nombre de salida con el formato correcto\n",
        "                            nombre_salida = f\"{departamento}_{shape_id}_{fecha}_{municipio}_{satelite}_{banda}.tiff\"\n",
        "                            nombre_salida_path = os.path.join(salida_dir, nombre_salida)\n",
        "\n",
        "                            try:\n",
        "                                # Recortar el raster usando el polígono\n",
        "                                out_image, out_transform = mask(src, geom, crop=True)\n",
        "\n",
        "                                # Crear el perfil de salida\n",
        "                                out_meta = src.meta.copy()\n",
        "                                out_meta.update({\n",
        "                                    \"driver\": \"GTiff\",\n",
        "                                    \"height\": out_image.shape[1],\n",
        "                                    \"width\": out_image.shape[2],\n",
        "                                    \"transform\": out_transform\n",
        "                                })\n",
        "\n",
        "                                # Guardar el archivo recortado\n",
        "                                with rasterio.open(nombre_salida_path, \"w\", **out_meta) as dst:\n",
        "                                    dst.write(out_image)\n",
        "\n",
        "                                print(f\"Recorte guardado: {nombre_salida_path}\")\n",
        "                            except Exception as e:\n",
        "                                print(f\"Error al recortar {banda_path} con {geojson_file}: {e}\")\n",
        "                except Exception as e:\n",
        "                    print(f\"Error al abrir la imagen {banda_path}: {e}\")\n",
        "\n",
        "# Definir directorios\n",
        "geojson_directory = \"/content/drive/MyDrive/Localización_por_GeoJson/Municipios_individuales_geojson/francisco\"\n",
        "imagenes_directory = \"/content/drive/MyDrive/poligonos_imagenes/imagenes_entrada_sentinel/francisco/posterior\"\n",
        "salida_directory = \"/content/drive/MyDrive/poligonos_imagenes/imagenes_salida_sentinel/francisco/posterior\"\n",
        "\n",
        "# Diccionario de imágenes con sus respectivas bandas\n",
        "imagenes_bandas = {\n",
        "     \"imagen 1\": [\n",
        "        \"2025-02-24_sentinel-2_B03.tiff\",\n",
        "        \"2025-02-24_sentinel-2_B04.tiff\",\n",
        "        \"2025-02-24_sentinel-2_B08.tiff\",\n",
        "        \"2025-02-24_sentinel-2_B011.tiff\"\n",
        "    ],\n",
        "}\n",
        "\n",
        "# Ejecutar la función para procesar imágenes y polígonos\n",
        "procesar_imagenes_y_poligonos(geojson_directory, imagenes_directory, salida_directory, imagenes_bandas)\n"
      ],
      "metadata": {
        "id": "Nb1zAqqdyjWm",
        "colab": {
          "base_uri": "https://localhost:8080/"
        },
        "outputId": "6b32cd7c-9db0-42b3-ea24-ea03b6ca2ac6",
        "cellView": "form"
      },
      "execution_count": null,
      "outputs": [
        {
          "output_type": "stream",
          "name": "stdout",
          "text": [
            "Recorte guardado: /content/drive/MyDrive/poligonos_imagenes/imagenes_salida_sentinel/francisco/posterior/Narino_650.655162467_2025-02-24_Francisco_Pizarro_sentinel-2_B03.tiff\n",
            "Recorte guardado: /content/drive/MyDrive/poligonos_imagenes/imagenes_salida_sentinel/francisco/posterior/Narino_650.655162467_2025-02-24_Francisco_Pizarro_sentinel-2_B04.tiff\n",
            "Recorte guardado: /content/drive/MyDrive/poligonos_imagenes/imagenes_salida_sentinel/francisco/posterior/Narino_650.655162467_2025-02-24_Francisco_Pizarro_sentinel-2_B08.tiff\n",
            "Recorte guardado: /content/drive/MyDrive/poligonos_imagenes/imagenes_salida_sentinel/francisco/posterior/Narino_650.655162467_2025-02-24_Francisco_Pizarro_sentinel-2_B011.tiff\n",
            "Recorte guardado: /content/drive/MyDrive/poligonos_imagenes/imagenes_salida_sentinel/francisco/posterior/Narino_616.273934186_2025-02-24_Francisco_Pizarro_sentinel-2_B03.tiff\n",
            "Recorte guardado: /content/drive/MyDrive/poligonos_imagenes/imagenes_salida_sentinel/francisco/posterior/Narino_616.273934186_2025-02-24_Francisco_Pizarro_sentinel-2_B04.tiff\n",
            "Recorte guardado: /content/drive/MyDrive/poligonos_imagenes/imagenes_salida_sentinel/francisco/posterior/Narino_616.273934186_2025-02-24_Francisco_Pizarro_sentinel-2_B08.tiff\n",
            "Recorte guardado: /content/drive/MyDrive/poligonos_imagenes/imagenes_salida_sentinel/francisco/posterior/Narino_616.273934186_2025-02-24_Francisco_Pizarro_sentinel-2_B011.tiff\n",
            "Recorte guardado: /content/drive/MyDrive/poligonos_imagenes/imagenes_salida_sentinel/francisco/posterior/Narino_1702.07236964_2025-02-24_Francisco_Pizarro_sentinel-2_B03.tiff\n",
            "Recorte guardado: /content/drive/MyDrive/poligonos_imagenes/imagenes_salida_sentinel/francisco/posterior/Narino_1702.07236964_2025-02-24_Francisco_Pizarro_sentinel-2_B04.tiff\n",
            "Recorte guardado: /content/drive/MyDrive/poligonos_imagenes/imagenes_salida_sentinel/francisco/posterior/Narino_1702.07236964_2025-02-24_Francisco_Pizarro_sentinel-2_B08.tiff\n",
            "Recorte guardado: /content/drive/MyDrive/poligonos_imagenes/imagenes_salida_sentinel/francisco/posterior/Narino_1702.07236964_2025-02-24_Francisco_Pizarro_sentinel-2_B011.tiff\n",
            "Recorte guardado: /content/drive/MyDrive/poligonos_imagenes/imagenes_salida_sentinel/francisco/posterior/Narino_998.175511051_2025-02-24_Francisco_Pizarro_sentinel-2_B03.tiff\n",
            "Recorte guardado: /content/drive/MyDrive/poligonos_imagenes/imagenes_salida_sentinel/francisco/posterior/Narino_998.175511051_2025-02-24_Francisco_Pizarro_sentinel-2_B04.tiff\n",
            "Recorte guardado: /content/drive/MyDrive/poligonos_imagenes/imagenes_salida_sentinel/francisco/posterior/Narino_998.175511051_2025-02-24_Francisco_Pizarro_sentinel-2_B08.tiff\n",
            "Recorte guardado: /content/drive/MyDrive/poligonos_imagenes/imagenes_salida_sentinel/francisco/posterior/Narino_998.175511051_2025-02-24_Francisco_Pizarro_sentinel-2_B011.tiff\n",
            "Recorte guardado: /content/drive/MyDrive/poligonos_imagenes/imagenes_salida_sentinel/francisco/posterior/Narino_720.067586916_2025-02-24_Francisco_Pizarro_sentinel-2_B03.tiff\n",
            "Recorte guardado: /content/drive/MyDrive/poligonos_imagenes/imagenes_salida_sentinel/francisco/posterior/Narino_720.067586916_2025-02-24_Francisco_Pizarro_sentinel-2_B04.tiff\n",
            "Recorte guardado: /content/drive/MyDrive/poligonos_imagenes/imagenes_salida_sentinel/francisco/posterior/Narino_720.067586916_2025-02-24_Francisco_Pizarro_sentinel-2_B08.tiff\n",
            "Recorte guardado: /content/drive/MyDrive/poligonos_imagenes/imagenes_salida_sentinel/francisco/posterior/Narino_720.067586916_2025-02-24_Francisco_Pizarro_sentinel-2_B011.tiff\n",
            "Recorte guardado: /content/drive/MyDrive/poligonos_imagenes/imagenes_salida_sentinel/francisco/posterior/Narino_2227.26293194_2025-02-24_Francisco_Pizarro_sentinel-2_B03.tiff\n",
            "Recorte guardado: /content/drive/MyDrive/poligonos_imagenes/imagenes_salida_sentinel/francisco/posterior/Narino_2227.26293194_2025-02-24_Francisco_Pizarro_sentinel-2_B04.tiff\n",
            "Recorte guardado: /content/drive/MyDrive/poligonos_imagenes/imagenes_salida_sentinel/francisco/posterior/Narino_2227.26293194_2025-02-24_Francisco_Pizarro_sentinel-2_B08.tiff\n",
            "Recorte guardado: /content/drive/MyDrive/poligonos_imagenes/imagenes_salida_sentinel/francisco/posterior/Narino_2227.26293194_2025-02-24_Francisco_Pizarro_sentinel-2_B011.tiff\n",
            "Recorte guardado: /content/drive/MyDrive/poligonos_imagenes/imagenes_salida_sentinel/francisco/posterior/Narino_630.39955417_2025-02-24_Francisco_Pizarro_sentinel-2_B03.tiff\n",
            "Recorte guardado: /content/drive/MyDrive/poligonos_imagenes/imagenes_salida_sentinel/francisco/posterior/Narino_630.39955417_2025-02-24_Francisco_Pizarro_sentinel-2_B04.tiff\n",
            "Recorte guardado: /content/drive/MyDrive/poligonos_imagenes/imagenes_salida_sentinel/francisco/posterior/Narino_630.39955417_2025-02-24_Francisco_Pizarro_sentinel-2_B08.tiff\n",
            "Recorte guardado: /content/drive/MyDrive/poligonos_imagenes/imagenes_salida_sentinel/francisco/posterior/Narino_630.39955417_2025-02-24_Francisco_Pizarro_sentinel-2_B011.tiff\n",
            "Recorte guardado: /content/drive/MyDrive/poligonos_imagenes/imagenes_salida_sentinel/francisco/posterior/Narino_532.433449017_2025-02-24_Francisco_Pizarro_sentinel-2_B03.tiff\n",
            "Recorte guardado: /content/drive/MyDrive/poligonos_imagenes/imagenes_salida_sentinel/francisco/posterior/Narino_532.433449017_2025-02-24_Francisco_Pizarro_sentinel-2_B04.tiff\n",
            "Recorte guardado: /content/drive/MyDrive/poligonos_imagenes/imagenes_salida_sentinel/francisco/posterior/Narino_532.433449017_2025-02-24_Francisco_Pizarro_sentinel-2_B08.tiff\n",
            "Recorte guardado: /content/drive/MyDrive/poligonos_imagenes/imagenes_salida_sentinel/francisco/posterior/Narino_532.433449017_2025-02-24_Francisco_Pizarro_sentinel-2_B011.tiff\n",
            "Recorte guardado: /content/drive/MyDrive/poligonos_imagenes/imagenes_salida_sentinel/francisco/posterior/Narino_1188.35005441_2025-02-24_Francisco_Pizarro_sentinel-2_B03.tiff\n",
            "Recorte guardado: /content/drive/MyDrive/poligonos_imagenes/imagenes_salida_sentinel/francisco/posterior/Narino_1188.35005441_2025-02-24_Francisco_Pizarro_sentinel-2_B04.tiff\n",
            "Recorte guardado: /content/drive/MyDrive/poligonos_imagenes/imagenes_salida_sentinel/francisco/posterior/Narino_1188.35005441_2025-02-24_Francisco_Pizarro_sentinel-2_B08.tiff\n",
            "Recorte guardado: /content/drive/MyDrive/poligonos_imagenes/imagenes_salida_sentinel/francisco/posterior/Narino_1188.35005441_2025-02-24_Francisco_Pizarro_sentinel-2_B011.tiff\n",
            "Recorte guardado: /content/drive/MyDrive/poligonos_imagenes/imagenes_salida_sentinel/francisco/posterior/Narino_2576.26351715_2025-02-24_Francisco_Pizarro_sentinel-2_B03.tiff\n",
            "Recorte guardado: /content/drive/MyDrive/poligonos_imagenes/imagenes_salida_sentinel/francisco/posterior/Narino_2576.26351715_2025-02-24_Francisco_Pizarro_sentinel-2_B04.tiff\n",
            "Recorte guardado: /content/drive/MyDrive/poligonos_imagenes/imagenes_salida_sentinel/francisco/posterior/Narino_2576.26351715_2025-02-24_Francisco_Pizarro_sentinel-2_B08.tiff\n",
            "Recorte guardado: /content/drive/MyDrive/poligonos_imagenes/imagenes_salida_sentinel/francisco/posterior/Narino_2576.26351715_2025-02-24_Francisco_Pizarro_sentinel-2_B011.tiff\n",
            "Recorte guardado: /content/drive/MyDrive/poligonos_imagenes/imagenes_salida_sentinel/francisco/posterior/Narino_560.452365886_2025-02-24_Francisco_Pizarro_sentinel-2_B03.tiff\n",
            "Recorte guardado: /content/drive/MyDrive/poligonos_imagenes/imagenes_salida_sentinel/francisco/posterior/Narino_560.452365886_2025-02-24_Francisco_Pizarro_sentinel-2_B04.tiff\n",
            "Recorte guardado: /content/drive/MyDrive/poligonos_imagenes/imagenes_salida_sentinel/francisco/posterior/Narino_560.452365886_2025-02-24_Francisco_Pizarro_sentinel-2_B08.tiff\n",
            "Recorte guardado: /content/drive/MyDrive/poligonos_imagenes/imagenes_salida_sentinel/francisco/posterior/Narino_560.452365886_2025-02-24_Francisco_Pizarro_sentinel-2_B011.tiff\n",
            "Recorte guardado: /content/drive/MyDrive/poligonos_imagenes/imagenes_salida_sentinel/francisco/posterior/Narino_856.962882092_2025-02-24_Francisco_Pizarro_sentinel-2_B03.tiff\n",
            "Recorte guardado: /content/drive/MyDrive/poligonos_imagenes/imagenes_salida_sentinel/francisco/posterior/Narino_856.962882092_2025-02-24_Francisco_Pizarro_sentinel-2_B04.tiff\n",
            "Recorte guardado: /content/drive/MyDrive/poligonos_imagenes/imagenes_salida_sentinel/francisco/posterior/Narino_856.962882092_2025-02-24_Francisco_Pizarro_sentinel-2_B08.tiff\n",
            "Recorte guardado: /content/drive/MyDrive/poligonos_imagenes/imagenes_salida_sentinel/francisco/posterior/Narino_856.962882092_2025-02-24_Francisco_Pizarro_sentinel-2_B011.tiff\n",
            "Recorte guardado: /content/drive/MyDrive/poligonos_imagenes/imagenes_salida_sentinel/francisco/posterior/Narino_499.766615522_2025-02-24_Francisco_Pizarro_sentinel-2_B03.tiff\n",
            "Recorte guardado: /content/drive/MyDrive/poligonos_imagenes/imagenes_salida_sentinel/francisco/posterior/Narino_499.766615522_2025-02-24_Francisco_Pizarro_sentinel-2_B04.tiff\n",
            "Recorte guardado: /content/drive/MyDrive/poligonos_imagenes/imagenes_salida_sentinel/francisco/posterior/Narino_499.766615522_2025-02-24_Francisco_Pizarro_sentinel-2_B08.tiff\n",
            "Recorte guardado: /content/drive/MyDrive/poligonos_imagenes/imagenes_salida_sentinel/francisco/posterior/Narino_499.766615522_2025-02-24_Francisco_Pizarro_sentinel-2_B011.tiff\n"
          ]
        }
      ]
    }
  ]
}